{
 "cells": [
  {
   "cell_type": "markdown",
   "id": "6f6841e7-0909-472d-a6ff-1b64f5d0088a",
   "metadata": {
    "tags": []
   },
   "source": [
    "# Creating Arrays"
   ]
  },
  {
   "cell_type": "code",
   "execution_count": 1,
   "id": "dc095b42-f1a2-4019-bb4d-d7680c134d72",
   "metadata": {},
   "outputs": [],
   "source": [
    "import numpy as np\n",
    "import matplotlib.pylab as plt\n",
    "from numpy import random"
   ]
  },
  {
   "cell_type": "code",
   "execution_count": 2,
   "id": "a7a57d3a-1150-46bc-a989-47d62c5c4625",
   "metadata": {},
   "outputs": [
    {
     "data": {
      "text/plain": [
       "array([1, 2, 3, 4, 5], dtype=int8)"
      ]
     },
     "execution_count": 2,
     "metadata": {},
     "output_type": "execute_result"
    }
   ],
   "source": [
    "list_1 = [1, 2, 3, 4, 5]\n",
    "np_arr_1 = np.array(list_1, dtype=np.int8)\n",
    "\n",
    "np_arr_1"
   ]
  },
  {
   "cell_type": "code",
   "execution_count": 3,
   "id": "99887a98-0168-4b85-bc63-ed524b06088c",
   "metadata": {},
   "outputs": [
    {
     "name": "stdout",
     "output_type": "stream",
     "text": [
      "Multidimensional array data type: int64\n"
     ]
    },
    {
     "data": {
      "text/plain": [
       "array([[1, 2, 3],\n",
       "       [4, 5, 6],\n",
       "       [7, 8, 9]])"
      ]
     },
     "execution_count": 3,
     "metadata": {},
     "output_type": "execute_result"
    }
   ],
   "source": [
    "list_m_1 = [[1, 2, 3], [4, 5, 6], [7, 8, 9]]\n",
    "np_arr_m_1 = np.array(list_m_1)\n",
    "\n",
    "print(\"Multidimensional array data type:\", np_arr_m_1.dtype)\n",
    "\n",
    "np_arr_m_1"
   ]
  },
  {
   "cell_type": "code",
   "execution_count": 4,
   "id": "7f303e39-4a35-4822-9a39-c49afc0691b2",
   "metadata": {},
   "outputs": [
    {
     "data": {
      "text/plain": [
       "array([0, 2, 4, 6, 8])"
      ]
     },
     "execution_count": 4,
     "metadata": {},
     "output_type": "execute_result"
    }
   ],
   "source": [
    "# Return evenly spaced values within a given interval.\n",
    "np.arange(0, 10, 2)"
   ]
  },
  {
   "cell_type": "code",
   "execution_count": 5,
   "id": "33d5a0b7-682c-47a7-831f-362570bd613e",
   "metadata": {},
   "outputs": [
    {
     "data": {
      "text/plain": [
       "array([0.        , 0.83333333, 1.66666667, 2.5       , 3.33333333,\n",
       "       4.16666667, 5.        ])"
      ]
     },
     "execution_count": 5,
     "metadata": {},
     "output_type": "execute_result"
    }
   ],
   "source": [
    "# Return evenly spaced numbers over a specified interval.\n",
    "np.linspace(0, 5, 7)"
   ]
  },
  {
   "cell_type": "code",
   "execution_count": 6,
   "id": "bc8ecf3b-2f1a-4032-963e-4dff8f6789a4",
   "metadata": {},
   "outputs": [
    {
     "data": {
      "text/plain": [
       "array([0., 0., 0., 0.])"
      ]
     },
     "execution_count": 6,
     "metadata": {},
     "output_type": "execute_result"
    }
   ],
   "source": [
    "np.zeros(4)"
   ]
  },
  {
   "cell_type": "code",
   "execution_count": 7,
   "id": "2b0520d2-9d1f-47ac-8e48-61a068b5108e",
   "metadata": {},
   "outputs": [
    {
     "data": {
      "text/plain": [
       "array([[1., 1., 1.],\n",
       "       [1., 1., 1.]])"
      ]
     },
     "execution_count": 7,
     "metadata": {},
     "output_type": "execute_result"
    }
   ],
   "source": [
    "np.ones((2,3))"
   ]
  },
  {
   "cell_type": "code",
   "execution_count": 8,
   "id": "8c3cfc3e-dead-4ec7-b36d-0c69de2443d6",
   "metadata": {},
   "outputs": [
    {
     "data": {
      "text/plain": [
       "array([[29, 30, 42],\n",
       "       [16, 35, 20]])"
      ]
     },
     "execution_count": 8,
     "metadata": {},
     "output_type": "execute_result"
    }
   ],
   "source": [
    "# np.random.randint?\n",
    "np.random.randint(10, 50, size=(2,3))"
   ]
  },
  {
   "cell_type": "markdown",
   "id": "d2ba0d1a-f90a-43de-af64-2f3d0d065b58",
   "metadata": {},
   "source": [
    "# Slicing & Indexes"
   ]
  },
  {
   "cell_type": "code",
   "execution_count": 9,
   "id": "25ab6450-5c8c-4060-b400-7606a13c502b",
   "metadata": {},
   "outputs": [
    {
     "data": {
      "text/plain": [
       "array([1, 2, 3, 4, 5], dtype=int8)"
      ]
     },
     "execution_count": 9,
     "metadata": {},
     "output_type": "execute_result"
    }
   ],
   "source": [
    "np_arr_1"
   ]
  },
  {
   "cell_type": "code",
   "execution_count": 10,
   "id": "d25d24b7-3b7c-4a57-bcd2-6057e23d53d9",
   "metadata": {},
   "outputs": [
    {
     "data": {
      "text/plain": [
       "array([[1, 2, 3],\n",
       "       [4, 5, 6],\n",
       "       [7, 8, 9]])"
      ]
     },
     "execution_count": 10,
     "metadata": {},
     "output_type": "execute_result"
    }
   ],
   "source": [
    "np_arr_m_1"
   ]
  },
  {
   "cell_type": "code",
   "execution_count": 11,
   "id": "9cafe42c-6b59-43f8-8f5f-273a98886f47",
   "metadata": {},
   "outputs": [
    {
     "data": {
      "text/plain": [
       "6"
      ]
     },
     "execution_count": 11,
     "metadata": {},
     "output_type": "execute_result"
    }
   ],
   "source": [
    "# Retrieve element at pos 1,2 using array indices\n",
    "np_arr_m_1[1, 2]"
   ]
  },
  {
   "cell_type": "code",
   "execution_count": 12,
   "id": "0633a1d6-8fd2-49ec-afe0-6f3e5ad26bf2",
   "metadata": {},
   "outputs": [
    {
     "data": {
      "text/plain": [
       "6"
      ]
     },
     "execution_count": 12,
     "metadata": {},
     "output_type": "execute_result"
    }
   ],
   "source": [
    "# Retrieve element at pos 1,2 using tuple as element location\n",
    "np_arr_m_1.item(1, 2)"
   ]
  },
  {
   "cell_type": "code",
   "execution_count": 13,
   "id": "50a77816-60c1-469f-b523-aaa0e25c6ebb",
   "metadata": {},
   "outputs": [
    {
     "data": {
      "text/plain": [
       "(3, 3)"
      ]
     },
     "execution_count": 13,
     "metadata": {},
     "output_type": "execute_result"
    }
   ],
   "source": [
    "# Get tuple of array one dimensions\n",
    "np_arr_m_1.shape"
   ]
  },
  {
   "cell_type": "code",
   "execution_count": 14,
   "id": "bf6ee837-e9f5-49ac-8f70-613a0672fcb8",
   "metadata": {},
   "outputs": [],
   "source": [
    "# Set element value at pos 0,0 = 42 using array indices\n",
    "np_arr_m_1[0, 0] = 42\n",
    "# Set element value at pos 1,0 = 24 using tuple as element location\n",
    "np_arr_m_1.itemset((1, 0), 24)"
   ]
  },
  {
   "cell_type": "code",
   "execution_count": 15,
   "id": "590dd569-b6a4-4d2c-a85a-3645dbf77651",
   "metadata": {},
   "outputs": [
    {
     "data": {
      "text/plain": [
       "array([3, 6, 9])"
      ]
     },
     "execution_count": 15,
     "metadata": {},
     "output_type": "execute_result"
    }
   ],
   "source": [
    "# Take elements from an array using indices of the values to extract (2,5,8).\n",
    "np.take(np_arr_m_1, [2, 5, 8])"
   ]
  },
  {
   "cell_type": "code",
   "execution_count": 16,
   "id": "460669c1-dca9-47c7-ae1a-1c55dd6d6ad3",
   "metadata": {},
   "outputs": [],
   "source": [
    "# Replace specified elements of an array with given values using target indices and values to place in a at target indices (1,4,7) => (10,10,10).\n",
    "np.put(np_arr_m_1, [1, 4, 7], [10, 10, 10])"
   ]
  },
  {
   "cell_type": "code",
   "execution_count": 17,
   "id": "b1cd04c7-76ff-4cbb-92d9-ea48044a3a52",
   "metadata": {},
   "outputs": [
    {
     "data": {
      "text/plain": [
       "array([1, 3, 5], dtype=int8)"
      ]
     },
     "execution_count": 17,
     "metadata": {},
     "output_type": "execute_result"
    }
   ],
   "source": [
    "# Slice one-dimensional array from the start until 5th element with step 2\n",
    "np_arr_1[:5:2]"
   ]
  },
  {
   "cell_type": "code",
   "execution_count": 18,
   "id": "93b5594d-5e8d-428c-b83b-3cf8364c17d8",
   "metadata": {},
   "outputs": [
    {
     "data": {
      "text/plain": [
       "array([3, 6, 9])"
      ]
     },
     "execution_count": 18,
     "metadata": {},
     "output_type": "execute_result"
    }
   ],
   "source": [
    "# Get third element from each row of a multidimensional array\n",
    "np_arr_m_1[:,2]"
   ]
  },
  {
   "cell_type": "code",
   "execution_count": 19,
   "id": "eac35501-75d6-4beb-9767-8572f4f086a2",
   "metadata": {},
   "outputs": [
    {
     "data": {
      "text/plain": [
       "array([[ 7, 10,  9],\n",
       "       [24, 10,  6],\n",
       "       [42, 10,  3]])"
      ]
     },
     "execution_count": 19,
     "metadata": {},
     "output_type": "execute_result"
    }
   ],
   "source": [
    "# Flip multidimensional array\n",
    "np_arr_m_1[::-1]"
   ]
  },
  {
   "cell_type": "code",
   "execution_count": 20,
   "id": "4bcda184-456f-4ff9-ac8f-c874124c109d",
   "metadata": {},
   "outputs": [
    {
     "data": {
      "text/plain": [
       "array([42, 10, 24, 10,  6, 10])"
      ]
     },
     "execution_count": 20,
     "metadata": {},
     "output_type": "execute_result"
    }
   ],
   "source": [
    "# Get even values from multidimensional array\n",
    "np_arr_m_1[np_arr_m_1 % 2 == 0]"
   ]
  },
  {
   "cell_type": "code",
   "execution_count": 21,
   "id": "d456cd39-0253-4ec2-929b-8aa5d6e52db3",
   "metadata": {},
   "outputs": [
    {
     "data": {
      "text/plain": [
       "array([6, 7])"
      ]
     },
     "execution_count": 21,
     "metadata": {},
     "output_type": "execute_result"
    }
   ],
   "source": [
    "# Get values from multidimensional array that are greater than 5 and lees than 9\n",
    "np_arr_m_1[(np_arr_m_1 > 5) & (np_arr_m_1 < 9)]"
   ]
  },
  {
   "cell_type": "code",
   "execution_count": 22,
   "id": "539f3c2f-2dc5-4518-8e63-45159a106bd1",
   "metadata": {},
   "outputs": [
    {
     "data": {
      "text/plain": [
       "array([ 3,  6,  7,  9, 10, 24, 42])"
      ]
     },
     "execution_count": 22,
     "metadata": {},
     "output_type": "execute_result"
    }
   ],
   "source": [
    "# Get unique values from multidimensional array\n",
    "np.unique(np_arr_m_1)"
   ]
  },
  {
   "cell_type": "markdown",
   "id": "fe06b924-0fb2-4837-9e65-d2ae3bd6cd3b",
   "metadata": {},
   "source": [
    "# Reshaping Arrays"
   ]
  },
  {
   "cell_type": "code",
   "execution_count": 23,
   "id": "ed6f494d-18b1-4775-9daf-e9c18b2b5ced",
   "metadata": {},
   "outputs": [
    {
     "data": {
      "text/plain": [
       "array([[42, 10,  3],\n",
       "       [24, 10,  6],\n",
       "       [ 7, 10,  9]])"
      ]
     },
     "execution_count": 23,
     "metadata": {},
     "output_type": "execute_result"
    }
   ],
   "source": [
    "np_arr_m_1"
   ]
  },
  {
   "cell_type": "code",
   "execution_count": 24,
   "id": "370d405f-3282-4207-ab7c-bdeca3f7113c",
   "metadata": {},
   "outputs": [
    {
     "data": {
      "text/plain": [
       "array([[42, 10,  3, 24, 10,  6,  7, 10,  9]])"
      ]
     },
     "execution_count": 24,
     "metadata": {},
     "output_type": "execute_result"
    }
   ],
   "source": [
    "# Reshape array into nine items single axis array\n",
    "np_arr_m_1.reshape((1, 9))"
   ]
  },
  {
   "cell_type": "code",
   "execution_count": 25,
   "id": "50eeb2e8-112e-4964-a3eb-8a9908a3b5f7",
   "metadata": {},
   "outputs": [
    {
     "data": {
      "text/plain": [
       "array([[42, 10,  3, 24, 10],\n",
       "       [ 6,  7, 10,  9, 42]])"
      ]
     },
     "execution_count": 25,
     "metadata": {},
     "output_type": "execute_result"
    }
   ],
   "source": [
    "# Resize to (2, 5)\n",
    "np.resize(np_arr_m_1, (2, 5))"
   ]
  },
  {
   "cell_type": "code",
   "execution_count": 26,
   "id": "0fbf231d-bd6a-484a-9b42-48117cdffd37",
   "metadata": {},
   "outputs": [
    {
     "data": {
      "text/plain": [
       "array([[42, 24,  7],\n",
       "       [10, 10, 10],\n",
       "       [ 3,  6,  9]])"
      ]
     },
     "execution_count": 26,
     "metadata": {},
     "output_type": "execute_result"
    }
   ],
   "source": [
    "# Transpose Array\n",
    "np_arr_m_1.transpose()"
   ]
  },
  {
   "cell_type": "code",
   "execution_count": 27,
   "id": "ab6cde4c-f5d4-49c9-9469-f71f65f545b9",
   "metadata": {
    "tags": []
   },
   "outputs": [
    {
     "data": {
      "text/plain": [
       "array([[42, 24,  7],\n",
       "       [10, 10, 10],\n",
       "       [ 3,  6,  9]])"
      ]
     },
     "execution_count": 27,
     "metadata": {},
     "output_type": "execute_result"
    }
   ],
   "source": [
    "# Swap axes 0 and 1\n",
    "np_arr_m_1.swapaxes(0, 1)"
   ]
  },
  {
   "cell_type": "code",
   "execution_count": 28,
   "id": "0d3a2524-26ee-4034-99fc-0939202d08be",
   "metadata": {},
   "outputs": [
    {
     "data": {
      "text/plain": [
       "array([42, 10,  3, 24, 10,  6,  7, 10,  9])"
      ]
     },
     "execution_count": 28,
     "metadata": {},
     "output_type": "execute_result"
    }
   ],
   "source": [
    "# Flatten array in row order\n",
    "np_arr_m_1.flatten()"
   ]
  },
  {
   "cell_type": "code",
   "execution_count": 29,
   "id": "86808cb5-d4b2-4c32-b59d-5094efcef842",
   "metadata": {
    "tags": []
   },
   "outputs": [
    {
     "data": {
      "text/plain": [
       "array([42, 24,  7, 10, 10, 10,  3,  6,  9])"
      ]
     },
     "execution_count": 29,
     "metadata": {},
     "output_type": "execute_result"
    }
   ],
   "source": [
    "# Flatten array in column order\n",
    "np_arr_m_1.flatten('F')"
   ]
  },
  {
   "cell_type": "markdown",
   "id": "0c67ec2d-3ed0-45e5-8b8a-ef860b41d826",
   "metadata": {
    "tags": []
   },
   "source": [
    "# Stacking & Splitting"
   ]
  },
  {
   "cell_type": "code",
   "execution_count": 30,
   "id": "e03f435d-da55-4917-8796-7db8e67f4902",
   "metadata": {},
   "outputs": [
    {
     "name": "stdout",
     "output_type": "stream",
     "text": [
      "ss_arr_1\n",
      " [[5 0]\n",
      " [1 8]]\n",
      "ss_arr_2\n",
      " [[9 4]\n",
      " [4 8]]\n"
     ]
    }
   ],
   "source": [
    "# Create square matrix of size 2 filled with random integes with maximum value of 10\n",
    "ss_arr_1 = np.random.randint(10, size=(2, 2))\n",
    "print(\"ss_arr_1\\n\", ss_arr_1)\n",
    "\n",
    "# Same operation for further calculations\n",
    "ss_arr_2 = np.random.randint(10, size=(2, 2))\n",
    "print(\"ss_arr_2\\n\", ss_arr_2)"
   ]
  },
  {
   "cell_type": "code",
   "execution_count": 31,
   "id": "4bf019a8-8692-4285-b8b6-d94c4d5059bc",
   "metadata": {},
   "outputs": [
    {
     "data": {
      "text/plain": [
       "array([[5, 0],\n",
       "       [1, 8],\n",
       "       [9, 4],\n",
       "       [4, 8]])"
      ]
     },
     "execution_count": 31,
     "metadata": {},
     "output_type": "execute_result"
    }
   ],
   "source": [
    "# Vertically stack array one on top of array two\n",
    "np.vstack((ss_arr_1, ss_arr_2))"
   ]
  },
  {
   "cell_type": "code",
   "execution_count": 32,
   "id": "f46288fc-0348-434b-ab4b-9312214a760e",
   "metadata": {},
   "outputs": [
    {
     "data": {
      "text/plain": [
       "array([[5, 0, 9, 4],\n",
       "       [1, 8, 4, 8]])"
      ]
     },
     "execution_count": 32,
     "metadata": {},
     "output_type": "execute_result"
    }
   ],
   "source": [
    "# Horisontally stack array one on with array two\n",
    "np.hstack((ss_arr_1, ss_arr_2))"
   ]
  },
  {
   "cell_type": "code",
   "execution_count": 33,
   "id": "4bb4abc5-d957-4609-9441-94084f30a083",
   "metadata": {},
   "outputs": [
    {
     "data": {
      "text/plain": [
       "array([[1, 4],\n",
       "       [2, 5],\n",
       "       [3, 6]])"
      ]
     },
     "execution_count": 33,
     "metadata": {},
     "output_type": "execute_result"
    }
   ],
   "source": [
    "# Stack 1-D arrays as columns into a 2-D array.\n",
    "np.column_stack((np.array((1, 2, 3)), np.array((4, 5, 6))))"
   ]
  },
  {
   "cell_type": "code",
   "execution_count": 34,
   "id": "2fb99612-5d2d-4dba-b09f-ef02290be67c",
   "metadata": {},
   "outputs": [
    {
     "data": {
      "text/plain": [
       "array([[5, 0],\n",
       "       [1, 8],\n",
       "       [9, 4],\n",
       "       [4, 8]])"
      ]
     },
     "execution_count": 34,
     "metadata": {},
     "output_type": "execute_result"
    }
   ],
   "source": [
    "# Stack array one and two in sequence vertically (row wise).\n",
    "np.row_stack((ss_arr_1, ss_arr_2))"
   ]
  },
  {
   "cell_type": "code",
   "execution_count": 36,
   "id": "ca33c1d7-bd35-4a33-9c1b-b3c456b36efd",
   "metadata": {},
   "outputs": [
    {
     "name": "stdout",
     "output_type": "stream",
     "text": [
      "ss_arr_3\n",
      " [[5 0]]\n",
      "ss_arr_4\n",
      " [[9 4]]\n"
     ]
    }
   ],
   "source": [
    "# Delete second row of array one and two\n",
    "ss_arr_3 = np.delete(ss_arr_1, 1, 0)\n",
    "print(\"ss_arr_3\\n\", ss_arr_3)\n",
    "\n",
    "ss_arr_4 = np.delete(ss_arr_2, 1, 0)\n",
    "print(\"ss_arr_4\\n\", ss_arr_4)"
   ]
  },
  {
   "cell_type": "code",
   "execution_count": 41,
   "id": "146909c1-ff78-4ccd-918d-ce18361fb245",
   "metadata": {},
   "outputs": [
    {
     "name": "stdout",
     "output_type": "stream",
     "text": [
      "ss_arr_5\n",
      " [[2 3 8 7 3 1 3 3 9 5]\n",
      " [1 2 2 5 1 1 7 5 3 9]]\n"
     ]
    },
    {
     "data": {
      "text/plain": [
       "[array([[2, 3],\n",
       "        [1, 2]]),\n",
       " array([[8, 7],\n",
       "        [2, 5]]),\n",
       " array([[3, 1],\n",
       "        [1, 1]]),\n",
       " array([[3, 3],\n",
       "        [7, 5]]),\n",
       " array([[9, 5],\n",
       "        [3, 9]])]"
      ]
     },
     "execution_count": 41,
     "metadata": {},
     "output_type": "execute_result"
    }
   ],
   "source": [
    "ss_arr_5 = np.random.randint(10, size=(2, 10))\n",
    "print(\"ss_arr_5\\n\", ss_arr_5)\n",
    "\n",
    "# Split an array into five sub-arrays horizontally (column-wise).\n",
    "np.hsplit(ss_arr_5, 5)"
   ]
  },
  {
   "cell_type": "code",
   "execution_count": 43,
   "id": "a371156b-aa7c-4f1c-8c06-d484eb4dc1da",
   "metadata": {},
   "outputs": [
    {
     "data": {
      "text/plain": [
       "[array([[2, 3],\n",
       "        [1, 2]]),\n",
       " array([[8, 7, 3],\n",
       "        [2, 5, 1]]),\n",
       " array([[1, 3, 3, 9, 5],\n",
       "        [1, 7, 5, 3, 9]])]"
      ]
     },
     "execution_count": 43,
     "metadata": {},
     "output_type": "execute_result"
    }
   ],
   "source": [
    "# Split an array horizontally into section sub-arrays of size 2, 3 and a \"remainder\" section subarray.\n",
    "np.hsplit(ss_arr_5, (2, 5))"
   ]
  }
 ],
 "metadata": {
  "kernelspec": {
   "display_name": "Python 3 (ipykernel)",
   "language": "python",
   "name": "python3"
  },
  "language_info": {
   "codemirror_mode": {
    "name": "ipython",
    "version": 3
   },
   "file_extension": ".py",
   "mimetype": "text/x-python",
   "name": "python",
   "nbconvert_exporter": "python",
   "pygments_lexer": "ipython3",
   "version": "3.8.13"
  }
 },
 "nbformat": 4,
 "nbformat_minor": 5
}
