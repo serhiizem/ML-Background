{
 "cells": [
  {
   "cell_type": "markdown",
   "id": "9a3dca0f-79d3-4b9d-a2e8-d3191cea6e39",
   "metadata": {},
   "source": [
    "# Series"
   ]
  },
  {
   "cell_type": "code",
   "execution_count": 64,
   "id": "747efea1-bc0f-4dbb-b3da-d4271e6a7782",
   "metadata": {},
   "outputs": [],
   "source": [
    "import numpy as np\n",
    "import pandas as pd"
   ]
  },
  {
   "cell_type": "code",
   "execution_count": 65,
   "id": "a4aa4c2a-97b8-4236-b60f-667c2e8ae0d5",
   "metadata": {},
   "outputs": [
    {
     "data": {
      "text/plain": [
       "1    a\n",
       "2    b\n",
       "3    c\n",
       "4    d\n",
       "dtype: object"
      ]
     },
     "execution_count": 65,
     "metadata": {},
     "output_type": "execute_result"
    }
   ],
   "source": [
    "# Create series (One-dimensional ndarray with axis labels) from Python list\n",
    "list_1 = ['a', 'b', 'c', 'd']\n",
    "labels = [1, 2, 3, 4]\n",
    "\n",
    "ser_1 = pd.Series(data=list_1, index=labels)\n",
    "ser_1"
   ]
  },
  {
   "cell_type": "code",
   "execution_count": 66,
   "id": "ed3dde0c-83f8-4be1-ad78-dbc23bef4e30",
   "metadata": {},
   "outputs": [
    {
     "name": "stdout",
     "output_type": "stream",
     "text": [
      "data type: int64\n",
      "\n"
     ]
    },
    {
     "data": {
      "text/plain": [
       "0    1\n",
       "1    2\n",
       "2    3\n",
       "3    4\n",
       "dtype: int64"
      ]
     },
     "execution_count": 66,
     "metadata": {},
     "output_type": "execute_result"
    }
   ],
   "source": [
    "# Create series (One-dimensional ndarray with axis labels) from 1D NumPy array\n",
    "arr_1 = np.array([1, 2, 3, 4])\n",
    "ser_2 = pd.Series(arr_1)\n",
    "\n",
    "# Get Series datatype\n",
    "print(f\"data type: {ser_2.dtype}\\n\")\n",
    "\n",
    "ser_2"
   ]
  },
  {
   "cell_type": "code",
   "execution_count": 67,
   "id": "df36285c-55b1-4708-9ac6-aa96b010d209",
   "metadata": {},
   "outputs": [
    {
     "name": "stdout",
     "output_type": "stream",
     "text": [
      "fname: Allan\n",
      "\n",
      "data type: object\n",
      "\n"
     ]
    },
    {
     "data": {
      "text/plain": [
       "f_name    Allan\n",
       "l_name      Poe\n",
       "dtype: object"
      ]
     },
     "execution_count": 67,
     "metadata": {},
     "output_type": "execute_result"
    }
   ],
   "source": [
    "# Create series (One-dimensional ndarray with axis labels) from Python dictionary\n",
    "dict_1 = {'f_name': 'Allan', 'l_name': 'Poe'}\n",
    "ser_3 = pd.Series(dict_1)\n",
    "\n",
    "# Retrieve value for 'f_name' property from Series\n",
    "print(f\"fname: {ser_3['f_name']}\\n\")\n",
    "\n",
    "# Get Series datatype\n",
    "print(f\"data type: {ser_3.dtype}\\n\")\n",
    "\n",
    "ser_3"
   ]
  },
  {
   "cell_type": "code",
   "execution_count": 68,
   "id": "4354121d-d3cd-405a-ab76-0599f5527298",
   "metadata": {},
   "outputs": [
    {
     "name": "stdout",
     "output_type": "stream",
     "text": [
      "ser_2 + ser_2:\n",
      "0    2\n",
      "1    4\n",
      "2    6\n",
      "3    8\n",
      "dtype: int64\n"
     ]
    }
   ],
   "source": [
    "# Add Series (ser_2) together\n",
    "print(\"ser_2 + ser_2:\")\n",
    "print(ser_2 + ser_2)"
   ]
  },
  {
   "cell_type": "code",
   "execution_count": 69,
   "id": "fe5b8f7a-f921-4c56-b3b9-e73eeb7a0abe",
   "metadata": {},
   "outputs": [
    {
     "name": "stdout",
     "output_type": "stream",
     "text": [
      "ser_2 * ser_2:\n",
      "0     1\n",
      "1     4\n",
      "2     9\n",
      "3    16\n",
      "dtype: int64\n"
     ]
    }
   ],
   "source": [
    "# Multiply Series (ser_2) together\n",
    "print(\"ser_2 * ser_2:\")\n",
    "print(ser_2 * ser_2)"
   ]
  },
  {
   "cell_type": "code",
   "execution_count": 70,
   "id": "3809ac8d-508d-4235-beb4-305ddc5c7e6a",
   "metadata": {},
   "outputs": [
    {
     "data": {
      "text/plain": [
       "0     2.718282\n",
       "1     7.389056\n",
       "2    20.085537\n",
       "3    54.598150\n",
       "dtype: float64"
      ]
     },
     "execution_count": 70,
     "metadata": {},
     "output_type": "execute_result"
    }
   ],
   "source": [
    "# Calculate the exponential of all elements in the input Series passing it into corresponding NumPy function.\n",
    "np.exp(ser_2)"
   ]
  },
  {
   "cell_type": "code",
   "execution_count": 71,
   "id": "5d9767f2-5501-467e-b1b3-2593d562f044",
   "metadata": {
    "tags": []
   },
   "outputs": [
    {
     "data": {
      "text/plain": [
       "0     NaN\n",
       "1     NaN\n",
       "2     NaN\n",
       "3    10.0\n",
       "4     NaN\n",
       "6     NaN\n",
       "dtype: float64"
      ]
     },
     "execution_count": 71,
     "metadata": {},
     "output_type": "execute_result"
    }
   ],
   "source": [
    "# Attempt to perform operation on two Series for which there is no alignment between most of the labels\n",
    "ser_4 = pd.Series({4: 5, 3: 6, 6: 7})\n",
    "ser_2 + ser_4"
   ]
  }
 ],
 "metadata": {
  "kernelspec": {
   "display_name": "Python 3 (ipykernel)",
   "language": "python",
   "name": "python3"
  },
  "language_info": {
   "codemirror_mode": {
    "name": "ipython",
    "version": 3
   },
   "file_extension": ".py",
   "mimetype": "text/x-python",
   "name": "python",
   "nbconvert_exporter": "python",
   "pygments_lexer": "ipython3",
   "version": "3.8.13"
  }
 },
 "nbformat": 4,
 "nbformat_minor": 5
}
