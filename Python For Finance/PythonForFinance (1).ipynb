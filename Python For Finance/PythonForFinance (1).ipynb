{
 "cells": [
  {
   "cell_type": "code",
   "execution_count": 1,
   "id": "53958dc5-c0ac-48ed-b33d-16b351617408",
   "metadata": {},
   "outputs": [],
   "source": [
    "# Provides ways to work with large multidimensional arrays\n",
    "import numpy as np \n",
    "# Allows for further data manipulation and analysis\n",
    "import pandas as pd\n",
    "from pandas_datareader import data as web # Reads stock data \n",
    "import matplotlib.pyplot as plt # Plotting\n",
    "import matplotlib.dates as mdates # Styling dates\n",
    "%matplotlib inline\n",
    "\n",
    "import datetime as dt # For defining dates\n",
    "import mplfinance as mpf # Matplotlib finance"
   ]
  },
  {
   "cell_type": "markdown",
   "id": "0f9ca297-520c-40f4-9b12-043d4dabff08",
   "metadata": {},
   "source": [
    "# Function that Saves Stock Data to CSV"
   ]
  },
  {
   "cell_type": "code",
   "execution_count": 2,
   "id": "6e3ac262-8ba4-4732-8816-b5f69870d647",
   "metadata": {},
   "outputs": [],
   "source": [
    "# Function that gets a dataframe by providing a ticker and starting date\n",
    "def save_to_csv_from_yahoo(ticker, syear, smonth, sday, eyear, emonth, eday):\n",
    "    \n",
    "    # Defines the time periods to use\n",
    "    start = dt.datetime(syear, smonth, sday)\n",
    "    end = dt.datetime(eyear, emonth, eday)\n",
    "    \n",
    "    # Reads data into a dataframe\n",
    "    df = web.DataReader(ticker, 'yahoo', start, end)\n",
    "    \n",
    "    # Save data to a CSV file\n",
    "    df.to_csv(\"/home/serhiizem/Documents/Tutorials/Python For Finance/\" + ticker + '.csv')\n",
    "    return df"
   ]
  },
  {
   "cell_type": "markdown",
   "id": "334279ff-f927-431b-a515-1c6fcc18c75e",
   "metadata": {},
   "source": [
    "# Function that Returns a Dataframe from a CSV"
   ]
  },
  {
   "cell_type": "code",
   "execution_count": 32,
   "id": "0a663504-c0f0-4349-9527-8e2da28dd32b",
   "metadata": {},
   "outputs": [],
   "source": [
    "# Reads a dataframe from the CSV file, changes index to date and returns it\n",
    "def get_df_from_csv(ticker):\n",
    "    \n",
    "    # Try to get the file and if it doesn't exist issue a warning\n",
    "    try:\n",
    "        df = pd.read_csv(\"/home/serhiizem/Documents/Tutorials/Python For Finance/\" + ticker + '.csv')\n",
    "    except FileNotFoundError:\n",
    "        print(\"File Doesn't Exist\")\n",
    "    else:\n",
    "        return df"
   ]
  },
  {
   "cell_type": "markdown",
   "id": "8f66e76b-c95a-48ba-a148-180a6a9013ac",
   "metadata": {},
   "source": [
    "# Add Daily Return to Dataframe"
   ]
  },
  {
   "cell_type": "code",
   "execution_count": 33,
   "id": "8b0f7258-199b-4d6b-a2bd-e20258e75a24",
   "metadata": {},
   "outputs": [],
   "source": [
    "# We calculate a percentage rate of return for each day to compare investments.\n",
    "# Simple Rate of Return = (End Price - Beginning Price) / Beginning Price OR (EP / BP) - 1\n",
    "\n",
    "# Shift provides the value from the previous day\n",
    "# NaN is displayed because there was no previous day price for the 1st calculation\n",
    "def add_daily_return_to_df(df, ticker):\n",
    "    df['daily_return'] = (df['Adj Close'] / df['Adj Close'].shift(1)) - 1\n",
    "    df.to_csv(\"/home/serhiizem/Documents/Tutorials/Python For Finance/\" + ticker + '.csv')\n",
    "    \n",
    "    return df"
   ]
  },
  {
   "cell_type": "markdown",
   "id": "ad2edf46-c1db-4b92-8155-282cb99301e9",
   "metadata": {},
   "source": [
    "# Get Total Return Over Time"
   ]
  },
  {
   "cell_type": "code",
   "execution_count": 34,
   "id": "854a6e01-29bb-4d92-970c-fed5d1d4bb2d",
   "metadata": {},
   "outputs": [],
   "source": [
    "def get_return_defined_time(df, syear, smonth, sday, eyear, emonth, eday):\n",
    "    # Create string representations for the dates\n",
    "    start = f\"{syear}-{smonth}-{sday}\"\n",
    "    end = f\"{eyear}-{emonth}-{eday}\"\n",
    "    df['Date'] = pd.to_datetime(df['Date'])\n",
    "    \n",
    "    # Use a mask to grab data between defined dates\n",
    "    mask = (df['Date'] >= start) & (df['Date'] <= end)\n",
    "    \n",
    "    # Get the mean of the column named daily return\n",
    "    daily_ret = df.loc[mask]['daily_return'].mean()\n",
    "    \n",
    "    # Get the number of days between 2 dates\n",
    "    df2 = df.loc[mask]\n",
    "    days = df2.shape[0]\n",
    "\n",
    "    # Return the total return between 2 dates\n",
    "    return (days * daily_ret)\n",
    "    "
   ]
  },
  {
   "cell_type": "markdown",
   "id": "4762eb41-9936-4cff-999c-08b6b394bb13",
   "metadata": {},
   "source": [
    "# Matplotlib Finance"
   ]
  },
  {
   "cell_type": "code",
   "execution_count": 35,
   "id": "29773272-255b-46d2-956e-57cc799a2e93",
   "metadata": {},
   "outputs": [],
   "source": [
    "# Receives a ticker and the date range for which to plot\n",
    "def mplfinance_plot(ticker, chart_type, syear, smonth, sday, eyear, emonth, eday):\n",
    "    # Create string representations for the dates\n",
    "    start = f\"{syear}-{smonth}-{sday}\"\n",
    "    end = f\"{eyear}-{emonth}-{eday}\"\n",
    "    \n",
    "    try:\n",
    "        # For Windows\n",
    "        # df = pd.read_csv('C:/Users/derek/Documents/Python Finance/Python/' + ticker + '.csv',index_col=0,parse_dates=True)\n",
    "        # For MacOS\n",
    "        df = pd.read_csv('/home/serhiizem/Documents/Tutorials/Python For Finance/' + ticker + '.csv',index_col=0,parse_dates=True)\n",
    "    except FileNotFoundError:\n",
    "        print(\"File Doesn't Exist\")\n",
    "    else:\n",
    "        \n",
    "        # Set data.index as DatetimeIndex\n",
    "        df.index = pd.DatetimeIndex(df['Date'])\n",
    "        \n",
    "        # Define to only use data between provided dates\n",
    "        df_sub = df.loc[start:end]\n",
    "        \n",
    "        # A candlestick chart demonstrates the daily open, high, low and closing price of a stock\n",
    "        mpf.plot(df_sub,type='candle')\n",
    "\n",
    "        # Plot price changes\n",
    "        mpf.plot(df_sub,type='line')\n",
    "\n",
    "        # Moving averages provide trend information (Average of previous 4 observations)\n",
    "        mpf.plot(df_sub,type='ohlc',mav=4)\n",
    "        \n",
    "        # Define a built in style\n",
    "        s = mpf.make_mpf_style(base_mpf_style='charles', rc={'font.size': 12})\n",
    "        # Pass in the defined style to the whole canvas\n",
    "        fig = mpf.figure(figsize=(24, 16), style=s) \n",
    "        # Candle stick chart subplot\n",
    "        ax = fig.add_subplot(2,1,1) \n",
    "        # Volume chart subplot\n",
    "        av = fig.add_subplot(2,1,2, sharex=ax)  \n",
    "\n",
    "        # plot multiple MAVs, volume, non-trading days\n",
    "        mpf.plot(df_sub,type=chart_type, mav=(3,5,7), ax=ax, volume=av, show_nontrading=True)"
   ]
  },
  {
   "cell_type": "markdown",
   "id": "29dee532-a515-4c04-bc10-63fc100c95ba",
   "metadata": {},
   "source": [
    "# Simple Price Plot"
   ]
  },
  {
   "cell_type": "code",
   "execution_count": 53,
   "id": "db3bfe82-9e48-4c49-ba6a-74e072a47ddc",
   "metadata": {},
   "outputs": [],
   "source": [
    "# Creates a simple price / date plot between dates\n",
    "def price_plot(ticker, syear, smonth, sday, eyear, emonth, eday):\n",
    "    # Create string representations for the dates\n",
    "    start = f\"{syear}-{smonth}-{sday}\"\n",
    "    end = f\"{eyear}-{emonth}-{eday}\"\n",
    "    \n",
    "    try:\n",
    "        # For Windows\n",
    "        # df = pd.read_csv('C:/Users/derek/Documents/Python Finance/Python/' + ticker + '.csv')\n",
    "        # For MacOS\n",
    "        df = pd.read_csv('/home/serhiizem/Documents/Tutorials/Python For Finance/' + ticker + '.csv')\n",
    "    except FileNotFoundError:\n",
    "        print(\"File Doesn't Exist\")\n",
    "    else:\n",
    "        \n",
    "        # Set data.index as DatetimeIndex\n",
    "        df.index = pd.DatetimeIndex(df['Date'])\n",
    "        \n",
    "        # Define to only use data between provided dates\n",
    "        df_sub = df.loc[start:end]\n",
    "        \n",
    "        # Convert to Numpy array\n",
    "        df_np = df_sub.to_numpy()\n",
    "        \n",
    "        # Get adjusted close data from the 5th column\n",
    "        np_adj_close = df_np[:,5]\n",
    "        \n",
    "        # Get date from the 1st\n",
    "        date_arr = df_np[:,1]\n",
    "        \n",
    "        # Defines area taken up by the plot\n",
    "        fig = plt.figure(figsize=(12,8),dpi=100)\n",
    "        axes = fig.add_axes([0,0,1,1])\n",
    "        \n",
    "        # Define the plot line color as navy\n",
    "        axes.plot(date_arr, np_adj_close, color='navy')\n",
    "        \n",
    "        # Set max ticks on the x axis\n",
    "        axes.xaxis.set_major_locator(plt.MaxNLocator(8))\n",
    "        \n",
    "        # Add a grid, color, dashes(5pts 1 pt dashes separated by 2pt space)\n",
    "        axes.grid(True, color='0.6', dashes=(5, 2, 1, 2))\n",
    "        \n",
    "        # Set grid background color\n",
    "        axes.set_facecolor('#FAEBD7')"
   ]
  },
  {
   "cell_type": "code",
   "execution_count": 6,
   "id": "b7902a1e-2a91-4f33-a92d-ea1aa5d283cd",
   "metadata": {},
   "outputs": [
    {
     "ename": "TypeError",
     "evalue": "string indices must be integers",
     "output_type": "error",
     "traceback": [
      "\u001b[0;31m---------------------------------------------------------------------------\u001b[0m",
      "\u001b[0;31mTypeError\u001b[0m                                 Traceback (most recent call last)",
      "\u001b[0;32m/tmp/ipykernel_11282/2498635525.py\u001b[0m in \u001b[0;36m<module>\u001b[0;34m\u001b[0m\n\u001b[0;32m----> 1\u001b[0;31m \u001b[0msave_to_csv_from_yahoo\u001b[0m\u001b[0;34m(\u001b[0m\u001b[0;34m'AMZN'\u001b[0m\u001b[0;34m,\u001b[0m \u001b[0;36m2020\u001b[0m\u001b[0;34m,\u001b[0m \u001b[0;36m1\u001b[0m\u001b[0;34m,\u001b[0m \u001b[0;36m1\u001b[0m\u001b[0;34m,\u001b[0m \u001b[0;36m2021\u001b[0m\u001b[0;34m,\u001b[0m \u001b[0;36m1\u001b[0m\u001b[0;34m,\u001b[0m \u001b[0;36m1\u001b[0m\u001b[0;34m)\u001b[0m\u001b[0;34m\u001b[0m\u001b[0;34m\u001b[0m\u001b[0m\n\u001b[0m\u001b[1;32m      2\u001b[0m \u001b[0;34m\u001b[0m\u001b[0m\n\u001b[1;32m      3\u001b[0m \u001b[0mAMZN\u001b[0m \u001b[0;34m=\u001b[0m \u001b[0mget_df_from_csv\u001b[0m\u001b[0;34m(\u001b[0m\u001b[0;34m'AMZN'\u001b[0m\u001b[0;34m)\u001b[0m\u001b[0;34m\u001b[0m\u001b[0;34m\u001b[0m\u001b[0m\n\u001b[1;32m      4\u001b[0m \u001b[0madd_daily_return_to_df\u001b[0m\u001b[0;34m(\u001b[0m\u001b[0mAMZN\u001b[0m\u001b[0;34m,\u001b[0m \u001b[0;34m'AMZN'\u001b[0m\u001b[0;34m)\u001b[0m\u001b[0;34m\u001b[0m\u001b[0;34m\u001b[0m\u001b[0m\n\u001b[1;32m      5\u001b[0m \u001b[0mtotal_return\u001b[0m \u001b[0;34m=\u001b[0m \u001b[0mget_return_defined_time\u001b[0m\u001b[0;34m(\u001b[0m\u001b[0mAMZN\u001b[0m\u001b[0;34m,\u001b[0m \u001b[0;36m2020\u001b[0m\u001b[0;34m,\u001b[0m \u001b[0;36m1\u001b[0m\u001b[0;34m,\u001b[0m \u001b[0;36m1\u001b[0m\u001b[0;34m,\u001b[0m \u001b[0;36m2021\u001b[0m\u001b[0;34m,\u001b[0m \u001b[0;36m1\u001b[0m\u001b[0;34m,\u001b[0m \u001b[0;36m1\u001b[0m\u001b[0;34m)\u001b[0m\u001b[0;34m\u001b[0m\u001b[0;34m\u001b[0m\u001b[0m\n",
      "\u001b[0;32m/tmp/ipykernel_11282/4003587640.py\u001b[0m in \u001b[0;36msave_to_csv_from_yahoo\u001b[0;34m(ticker, syear, smonth, sday, eyear, emonth, eday)\u001b[0m\n\u001b[1;32m      7\u001b[0m \u001b[0;34m\u001b[0m\u001b[0m\n\u001b[1;32m      8\u001b[0m     \u001b[0;31m# Reads data into a dataframe\u001b[0m\u001b[0;34m\u001b[0m\u001b[0;34m\u001b[0m\u001b[0m\n\u001b[0;32m----> 9\u001b[0;31m     \u001b[0mdf\u001b[0m \u001b[0;34m=\u001b[0m \u001b[0mweb\u001b[0m\u001b[0;34m.\u001b[0m\u001b[0mDataReader\u001b[0m\u001b[0;34m(\u001b[0m\u001b[0mticker\u001b[0m\u001b[0;34m,\u001b[0m \u001b[0;34m'yahoo'\u001b[0m\u001b[0;34m,\u001b[0m \u001b[0mstart\u001b[0m\u001b[0;34m,\u001b[0m \u001b[0mend\u001b[0m\u001b[0;34m)\u001b[0m\u001b[0;34m\u001b[0m\u001b[0;34m\u001b[0m\u001b[0m\n\u001b[0m\u001b[1;32m     10\u001b[0m \u001b[0;34m\u001b[0m\u001b[0m\n\u001b[1;32m     11\u001b[0m     \u001b[0;31m# Save data to a CSV file\u001b[0m\u001b[0;34m\u001b[0m\u001b[0;34m\u001b[0m\u001b[0m\n",
      "\u001b[0;32m~/anaconda3/lib/python3.9/site-packages/pandas/util/_decorators.py\u001b[0m in \u001b[0;36mwrapper\u001b[0;34m(*args, **kwargs)\u001b[0m\n\u001b[1;32m    205\u001b[0m                 \u001b[0;32melse\u001b[0m\u001b[0;34m:\u001b[0m\u001b[0;34m\u001b[0m\u001b[0;34m\u001b[0m\u001b[0m\n\u001b[1;32m    206\u001b[0m                     \u001b[0mkwargs\u001b[0m\u001b[0;34m[\u001b[0m\u001b[0mnew_arg_name\u001b[0m\u001b[0;34m]\u001b[0m \u001b[0;34m=\u001b[0m \u001b[0mnew_arg_value\u001b[0m\u001b[0;34m\u001b[0m\u001b[0;34m\u001b[0m\u001b[0m\n\u001b[0;32m--> 207\u001b[0;31m             \u001b[0;32mreturn\u001b[0m \u001b[0mfunc\u001b[0m\u001b[0;34m(\u001b[0m\u001b[0;34m*\u001b[0m\u001b[0margs\u001b[0m\u001b[0;34m,\u001b[0m \u001b[0;34m**\u001b[0m\u001b[0mkwargs\u001b[0m\u001b[0;34m)\u001b[0m\u001b[0;34m\u001b[0m\u001b[0;34m\u001b[0m\u001b[0m\n\u001b[0m\u001b[1;32m    208\u001b[0m \u001b[0;34m\u001b[0m\u001b[0m\n\u001b[1;32m    209\u001b[0m         \u001b[0;32mreturn\u001b[0m \u001b[0mcast\u001b[0m\u001b[0;34m(\u001b[0m\u001b[0mF\u001b[0m\u001b[0;34m,\u001b[0m \u001b[0mwrapper\u001b[0m\u001b[0;34m)\u001b[0m\u001b[0;34m\u001b[0m\u001b[0;34m\u001b[0m\u001b[0m\n",
      "\u001b[0;32m~/anaconda3/lib/python3.9/site-packages/pandas_datareader/data.py\u001b[0m in \u001b[0;36mDataReader\u001b[0;34m(name, data_source, start, end, retry_count, pause, session, api_key)\u001b[0m\n\u001b[1;32m    368\u001b[0m \u001b[0;34m\u001b[0m\u001b[0m\n\u001b[1;32m    369\u001b[0m     \u001b[0;32mif\u001b[0m \u001b[0mdata_source\u001b[0m \u001b[0;34m==\u001b[0m \u001b[0;34m\"yahoo\"\u001b[0m\u001b[0;34m:\u001b[0m\u001b[0;34m\u001b[0m\u001b[0;34m\u001b[0m\u001b[0m\n\u001b[0;32m--> 370\u001b[0;31m         return YahooDailyReader(\n\u001b[0m\u001b[1;32m    371\u001b[0m             \u001b[0msymbols\u001b[0m\u001b[0;34m=\u001b[0m\u001b[0mname\u001b[0m\u001b[0;34m,\u001b[0m\u001b[0;34m\u001b[0m\u001b[0;34m\u001b[0m\u001b[0m\n\u001b[1;32m    372\u001b[0m             \u001b[0mstart\u001b[0m\u001b[0;34m=\u001b[0m\u001b[0mstart\u001b[0m\u001b[0;34m,\u001b[0m\u001b[0;34m\u001b[0m\u001b[0;34m\u001b[0m\u001b[0m\n",
      "\u001b[0;32m~/anaconda3/lib/python3.9/site-packages/pandas_datareader/base.py\u001b[0m in \u001b[0;36mread\u001b[0;34m(self)\u001b[0m\n\u001b[1;32m    251\u001b[0m         \u001b[0;31m# If a single symbol, (e.g., 'GOOG')\u001b[0m\u001b[0;34m\u001b[0m\u001b[0;34m\u001b[0m\u001b[0m\n\u001b[1;32m    252\u001b[0m         \u001b[0;32mif\u001b[0m \u001b[0misinstance\u001b[0m\u001b[0;34m(\u001b[0m\u001b[0mself\u001b[0m\u001b[0;34m.\u001b[0m\u001b[0msymbols\u001b[0m\u001b[0;34m,\u001b[0m \u001b[0;34m(\u001b[0m\u001b[0mstring_types\u001b[0m\u001b[0;34m,\u001b[0m \u001b[0mint\u001b[0m\u001b[0;34m)\u001b[0m\u001b[0;34m)\u001b[0m\u001b[0;34m:\u001b[0m\u001b[0;34m\u001b[0m\u001b[0;34m\u001b[0m\u001b[0m\n\u001b[0;32m--> 253\u001b[0;31m             \u001b[0mdf\u001b[0m \u001b[0;34m=\u001b[0m \u001b[0mself\u001b[0m\u001b[0;34m.\u001b[0m\u001b[0m_read_one_data\u001b[0m\u001b[0;34m(\u001b[0m\u001b[0mself\u001b[0m\u001b[0;34m.\u001b[0m\u001b[0murl\u001b[0m\u001b[0;34m,\u001b[0m \u001b[0mparams\u001b[0m\u001b[0;34m=\u001b[0m\u001b[0mself\u001b[0m\u001b[0;34m.\u001b[0m\u001b[0m_get_params\u001b[0m\u001b[0;34m(\u001b[0m\u001b[0mself\u001b[0m\u001b[0;34m.\u001b[0m\u001b[0msymbols\u001b[0m\u001b[0;34m)\u001b[0m\u001b[0;34m)\u001b[0m\u001b[0;34m\u001b[0m\u001b[0;34m\u001b[0m\u001b[0m\n\u001b[0m\u001b[1;32m    254\u001b[0m         \u001b[0;31m# Or multiple symbols, (e.g., ['GOOG', 'AAPL', 'MSFT'])\u001b[0m\u001b[0;34m\u001b[0m\u001b[0;34m\u001b[0m\u001b[0m\n\u001b[1;32m    255\u001b[0m         \u001b[0;32melif\u001b[0m \u001b[0misinstance\u001b[0m\u001b[0;34m(\u001b[0m\u001b[0mself\u001b[0m\u001b[0;34m.\u001b[0m\u001b[0msymbols\u001b[0m\u001b[0;34m,\u001b[0m \u001b[0mDataFrame\u001b[0m\u001b[0;34m)\u001b[0m\u001b[0;34m:\u001b[0m\u001b[0;34m\u001b[0m\u001b[0;34m\u001b[0m\u001b[0m\n",
      "\u001b[0;32m~/anaconda3/lib/python3.9/site-packages/pandas_datareader/yahoo/daily.py\u001b[0m in \u001b[0;36m_read_one_data\u001b[0;34m(self, url, params)\u001b[0m\n\u001b[1;32m    151\u001b[0m         \u001b[0;32mtry\u001b[0m\u001b[0;34m:\u001b[0m\u001b[0;34m\u001b[0m\u001b[0;34m\u001b[0m\u001b[0m\n\u001b[1;32m    152\u001b[0m             \u001b[0mj\u001b[0m \u001b[0;34m=\u001b[0m \u001b[0mjson\u001b[0m\u001b[0;34m.\u001b[0m\u001b[0mloads\u001b[0m\u001b[0;34m(\u001b[0m\u001b[0mre\u001b[0m\u001b[0;34m.\u001b[0m\u001b[0msearch\u001b[0m\u001b[0;34m(\u001b[0m\u001b[0mptrn\u001b[0m\u001b[0;34m,\u001b[0m \u001b[0mresp\u001b[0m\u001b[0;34m.\u001b[0m\u001b[0mtext\u001b[0m\u001b[0;34m,\u001b[0m \u001b[0mre\u001b[0m\u001b[0;34m.\u001b[0m\u001b[0mDOTALL\u001b[0m\u001b[0;34m)\u001b[0m\u001b[0;34m.\u001b[0m\u001b[0mgroup\u001b[0m\u001b[0;34m(\u001b[0m\u001b[0;36m1\u001b[0m\u001b[0;34m)\u001b[0m\u001b[0;34m)\u001b[0m\u001b[0;34m\u001b[0m\u001b[0;34m\u001b[0m\u001b[0m\n\u001b[0;32m--> 153\u001b[0;31m             \u001b[0mdata\u001b[0m \u001b[0;34m=\u001b[0m \u001b[0mj\u001b[0m\u001b[0;34m[\u001b[0m\u001b[0;34m\"context\"\u001b[0m\u001b[0;34m]\u001b[0m\u001b[0;34m[\u001b[0m\u001b[0;34m\"dispatcher\"\u001b[0m\u001b[0;34m]\u001b[0m\u001b[0;34m[\u001b[0m\u001b[0;34m\"stores\"\u001b[0m\u001b[0;34m]\u001b[0m\u001b[0;34m[\u001b[0m\u001b[0;34m\"HistoricalPriceStore\"\u001b[0m\u001b[0;34m]\u001b[0m\u001b[0;34m\u001b[0m\u001b[0;34m\u001b[0m\u001b[0m\n\u001b[0m\u001b[1;32m    154\u001b[0m         \u001b[0;32mexcept\u001b[0m \u001b[0mKeyError\u001b[0m\u001b[0;34m:\u001b[0m\u001b[0;34m\u001b[0m\u001b[0;34m\u001b[0m\u001b[0m\n\u001b[1;32m    155\u001b[0m             \u001b[0mmsg\u001b[0m \u001b[0;34m=\u001b[0m \u001b[0;34m\"No data fetched for symbol {} using {}\"\u001b[0m\u001b[0;34m\u001b[0m\u001b[0;34m\u001b[0m\u001b[0m\n",
      "\u001b[0;31mTypeError\u001b[0m: string indices must be integers"
     ]
    }
   ],
   "source": [
    "save_to_csv_from_yahoo('AMZN', 2020, 1, 1, 2021, 1, 1)\n",
    "\n",
    "AMZN = get_df_from_csv('AMZN')\n",
    "add_daily_return_to_df(AMZN, 'AMZN')\n",
    "total_return = get_return_defined_time(AMZN, 2020, 1, 1, 2021, 1, 1)\n",
    "print(\"Total return: \", total_return)\n",
    "\n",
    "mplfinance_plot('AMZN', 'ohlc', 2020, 1, 1, 2021, 1, 1)\n",
    "price_plot('AMZN', 2020, 1, 1, 2021, 1, 1)\n",
    "\n",
    "AMZN"
   ]
  }
 ],
 "metadata": {
  "kernelspec": {
   "display_name": "Python 3 (ipykernel)",
   "language": "python",
   "name": "python3"
  },
  "language_info": {
   "codemirror_mode": {
    "name": "ipython",
    "version": 3
   },
   "file_extension": ".py",
   "mimetype": "text/x-python",
   "name": "python",
   "nbconvert_exporter": "python",
   "pygments_lexer": "ipython3",
   "version": "3.9.13"
  }
 },
 "nbformat": 4,
 "nbformat_minor": 5
}
