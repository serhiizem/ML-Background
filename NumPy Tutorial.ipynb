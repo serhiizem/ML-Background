{
 "cells": [
  {
   "cell_type": "markdown",
   "id": "6f6841e7-0909-472d-a6ff-1b64f5d0088a",
   "metadata": {},
   "source": [
    "# NumPy Arrays: Creating Arrays"
   ]
  },
  {
   "cell_type": "code",
   "execution_count": 50,
   "id": "dc095b42-f1a2-4019-bb4d-d7680c134d72",
   "metadata": {},
   "outputs": [],
   "source": [
    "import numpy as np\n",
    "import matplotlib.pylab as plt\n",
    "from numpy import random"
   ]
  },
  {
   "cell_type": "code",
   "execution_count": 51,
   "id": "a7a57d3a-1150-46bc-a989-47d62c5c4625",
   "metadata": {},
   "outputs": [
    {
     "data": {
      "text/plain": [
       "array([1, 2, 3, 4, 5], dtype=int8)"
      ]
     },
     "execution_count": 51,
     "metadata": {},
     "output_type": "execute_result"
    }
   ],
   "source": [
    "list_1 = [1, 2, 3, 4, 5]\n",
    "np_arr_1 = np.array(list_1, dtype=np.int8)\n",
    "\n",
    "np_arr_1"
   ]
  },
  {
   "cell_type": "code",
   "execution_count": 52,
   "id": "99887a98-0168-4b85-bc63-ed524b06088c",
   "metadata": {},
   "outputs": [
    {
     "name": "stdout",
     "output_type": "stream",
     "text": [
      "Multidimensional array data type: int64\n"
     ]
    },
    {
     "data": {
      "text/plain": [
       "array([[1, 2, 3],\n",
       "       [4, 5, 6],\n",
       "       [7, 8, 9]])"
      ]
     },
     "execution_count": 52,
     "metadata": {},
     "output_type": "execute_result"
    }
   ],
   "source": [
    "list_m_1 = [[1, 2, 3], [4, 5, 6], [7, 8, 9]]\n",
    "np_arr_m_1 = np.array(list_m_1)\n",
    "\n",
    "print(\"Multidimensional array data type:\", np_arr_m_1.dtype)\n",
    "\n",
    "np_arr_m_1"
   ]
  },
  {
   "cell_type": "code",
   "execution_count": 53,
   "id": "7f303e39-4a35-4822-9a39-c49afc0691b2",
   "metadata": {},
   "outputs": [
    {
     "data": {
      "text/plain": [
       "array([0, 2, 4, 6, 8])"
      ]
     },
     "execution_count": 53,
     "metadata": {},
     "output_type": "execute_result"
    }
   ],
   "source": [
    "# Return evenly spaced values within a given interval.\n",
    "np.arange(0, 10, 2)"
   ]
  },
  {
   "cell_type": "code",
   "execution_count": 54,
   "id": "33d5a0b7-682c-47a7-831f-362570bd613e",
   "metadata": {},
   "outputs": [
    {
     "data": {
      "text/plain": [
       "array([0.        , 0.83333333, 1.66666667, 2.5       , 3.33333333,\n",
       "       4.16666667, 5.        ])"
      ]
     },
     "execution_count": 54,
     "metadata": {},
     "output_type": "execute_result"
    }
   ],
   "source": [
    "#Return evenly spaced numbers over a specified interval.\n",
    "np.linspace(0, 5, 7)"
   ]
  },
  {
   "cell_type": "code",
   "execution_count": 55,
   "id": "bc8ecf3b-2f1a-4032-963e-4dff8f6789a4",
   "metadata": {},
   "outputs": [
    {
     "data": {
      "text/plain": [
       "array([0., 0., 0., 0.])"
      ]
     },
     "execution_count": 55,
     "metadata": {},
     "output_type": "execute_result"
    }
   ],
   "source": [
    "np.zeros(4)"
   ]
  },
  {
   "cell_type": "code",
   "execution_count": 56,
   "id": "2b0520d2-9d1f-47ac-8e48-61a068b5108e",
   "metadata": {},
   "outputs": [
    {
     "data": {
      "text/plain": [
       "array([[1., 1., 1.],\n",
       "       [1., 1., 1.]])"
      ]
     },
     "execution_count": 56,
     "metadata": {},
     "output_type": "execute_result"
    }
   ],
   "source": [
    "np.ones((2,3))"
   ]
  },
  {
   "cell_type": "code",
   "execution_count": 70,
   "id": "8c3cfc3e-dead-4ec7-b36d-0c69de2443d6",
   "metadata": {},
   "outputs": [
    {
     "data": {
      "text/plain": [
       "array([[21, 24, 30],\n",
       "       [43, 46, 13]])"
      ]
     },
     "execution_count": 70,
     "metadata": {},
     "output_type": "execute_result"
    }
   ],
   "source": [
    "# np.random.randint?\n",
    "np.random.randint(10, 50, size=(2,3))"
   ]
  }
 ],
 "metadata": {
  "kernelspec": {
   "display_name": "Python 3 (ipykernel)",
   "language": "python",
   "name": "python3"
  },
  "language_info": {
   "codemirror_mode": {
    "name": "ipython",
    "version": 3
   },
   "file_extension": ".py",
   "mimetype": "text/x-python",
   "name": "python",
   "nbconvert_exporter": "python",
   "pygments_lexer": "ipython3",
   "version": "3.8.13"
  }
 },
 "nbformat": 4,
 "nbformat_minor": 5
}
