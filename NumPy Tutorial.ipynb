{
 "cells": [
  {
   "cell_type": "markdown",
   "id": "6f6841e7-0909-472d-a6ff-1b64f5d0088a",
   "metadata": {},
   "source": [
    "# Creating Arrays"
   ]
  },
  {
   "cell_type": "code",
   "execution_count": 3,
   "id": "dc095b42-f1a2-4019-bb4d-d7680c134d72",
   "metadata": {},
   "outputs": [],
   "source": [
    "import numpy as np\n",
    "import matplotlib.pylab as plt\n",
    "from numpy import random"
   ]
  },
  {
   "cell_type": "code",
   "execution_count": 5,
   "id": "a7a57d3a-1150-46bc-a989-47d62c5c4625",
   "metadata": {},
   "outputs": [
    {
     "data": {
      "text/plain": [
       "array([1, 2, 3, 4, 5], dtype=int8)"
      ]
     },
     "execution_count": 5,
     "metadata": {},
     "output_type": "execute_result"
    }
   ],
   "source": [
    "list_1 = [1, 2, 3, 4, 5]\n",
    "np_arr_1 = np.array(list_1, dtype=np.int8)\n",
    "\n",
    "np_arr_1"
   ]
  },
  {
   "cell_type": "code",
   "execution_count": 7,
   "id": "99887a98-0168-4b85-bc63-ed524b06088c",
   "metadata": {},
   "outputs": [
    {
     "name": "stdout",
     "output_type": "stream",
     "text": [
      "Multidimensional array data type: int64\n"
     ]
    },
    {
     "data": {
      "text/plain": [
       "array([[1, 2, 3],\n",
       "       [4, 5, 6],\n",
       "       [7, 8, 9]])"
      ]
     },
     "execution_count": 7,
     "metadata": {},
     "output_type": "execute_result"
    }
   ],
   "source": [
    "list_m_1 = [[1, 2, 3], [4, 5, 6], [7, 8, 9]]\n",
    "np_arr_m_1 = np.array(list_m_1)\n",
    "\n",
    "print(\"Multidimensional array data type:\", np_arr_m_1.dtype)\n",
    "\n",
    "np_arr_m_1"
   ]
  },
  {
   "cell_type": "code",
   "execution_count": 10,
   "id": "7f303e39-4a35-4822-9a39-c49afc0691b2",
   "metadata": {},
   "outputs": [
    {
     "data": {
      "text/plain": [
       "array([0, 2, 4, 6, 8])"
      ]
     },
     "execution_count": 10,
     "metadata": {},
     "output_type": "execute_result"
    }
   ],
   "source": [
    "# Return evenly spaced values within a given interval.\n",
    "np.arange(0, 10, 2)"
   ]
  },
  {
   "cell_type": "code",
   "execution_count": 12,
   "id": "33d5a0b7-682c-47a7-831f-362570bd613e",
   "metadata": {},
   "outputs": [
    {
     "data": {
      "text/plain": [
       "array([0.        , 0.83333333, 1.66666667, 2.5       , 3.33333333,\n",
       "       4.16666667, 5.        ])"
      ]
     },
     "execution_count": 12,
     "metadata": {},
     "output_type": "execute_result"
    }
   ],
   "source": [
    "# Return evenly spaced numbers over a specified interval.\n",
    "np.linspace(0, 5, 7)"
   ]
  },
  {
   "cell_type": "code",
   "execution_count": 14,
   "id": "bc8ecf3b-2f1a-4032-963e-4dff8f6789a4",
   "metadata": {},
   "outputs": [
    {
     "data": {
      "text/plain": [
       "array([0., 0., 0., 0.])"
      ]
     },
     "execution_count": 14,
     "metadata": {},
     "output_type": "execute_result"
    }
   ],
   "source": [
    "np.zeros(4)"
   ]
  },
  {
   "cell_type": "code",
   "execution_count": 16,
   "id": "2b0520d2-9d1f-47ac-8e48-61a068b5108e",
   "metadata": {},
   "outputs": [
    {
     "data": {
      "text/plain": [
       "array([[1., 1., 1.],\n",
       "       [1., 1., 1.]])"
      ]
     },
     "execution_count": 16,
     "metadata": {},
     "output_type": "execute_result"
    }
   ],
   "source": [
    "np.ones((2,3))"
   ]
  },
  {
   "cell_type": "code",
   "execution_count": 18,
   "id": "8c3cfc3e-dead-4ec7-b36d-0c69de2443d6",
   "metadata": {},
   "outputs": [
    {
     "data": {
      "text/plain": [
       "array([[36, 41, 48],\n",
       "       [47, 13, 37]])"
      ]
     },
     "execution_count": 18,
     "metadata": {},
     "output_type": "execute_result"
    }
   ],
   "source": [
    "# np.random.randint?\n",
    "np.random.randint(10, 50, size=(2,3))"
   ]
  },
  {
   "cell_type": "markdown",
   "id": "d2ba0d1a-f90a-43de-af64-2f3d0d065b58",
   "metadata": {},
   "source": [
    "# Slicing & Indexes"
   ]
  },
  {
   "cell_type": "code",
   "execution_count": 34,
   "id": "25ab6450-5c8c-4060-b400-7606a13c502b",
   "metadata": {},
   "outputs": [
    {
     "data": {
      "text/plain": [
       "array([1, 2, 3, 4, 5], dtype=int8)"
      ]
     },
     "execution_count": 34,
     "metadata": {},
     "output_type": "execute_result"
    }
   ],
   "source": [
    "np_arr_1"
   ]
  },
  {
   "cell_type": "code",
   "execution_count": 44,
   "id": "d25d24b7-3b7c-4a57-bcd2-6057e23d53d9",
   "metadata": {},
   "outputs": [
    {
     "data": {
      "text/plain": [
       "array([[42, 10,  3],\n",
       "       [24, 10,  6],\n",
       "       [ 7, 10,  9]])"
      ]
     },
     "execution_count": 44,
     "metadata": {},
     "output_type": "execute_result"
    }
   ],
   "source": [
    "np_arr_m_1"
   ]
  },
  {
   "cell_type": "code",
   "execution_count": 21,
   "id": "9cafe42c-6b59-43f8-8f5f-273a98886f47",
   "metadata": {},
   "outputs": [
    {
     "data": {
      "text/plain": [
       "6"
      ]
     },
     "execution_count": 21,
     "metadata": {},
     "output_type": "execute_result"
    }
   ],
   "source": [
    "np_arr_m_1[1, 2]"
   ]
  },
  {
   "cell_type": "code",
   "execution_count": 23,
   "id": "0633a1d6-8fd2-49ec-afe0-6f3e5ad26bf2",
   "metadata": {},
   "outputs": [
    {
     "data": {
      "text/plain": [
       "6"
      ]
     },
     "execution_count": 23,
     "metadata": {},
     "output_type": "execute_result"
    }
   ],
   "source": [
    "np_arr_m_1.item(1, 2)"
   ]
  },
  {
   "cell_type": "code",
   "execution_count": 25,
   "id": "50a77816-60c1-469f-b523-aaa0e25c6ebb",
   "metadata": {},
   "outputs": [
    {
     "data": {
      "text/plain": [
       "(3, 3)"
      ]
     },
     "execution_count": 25,
     "metadata": {},
     "output_type": "execute_result"
    }
   ],
   "source": [
    "np_arr_m_1.shape"
   ]
  },
  {
   "cell_type": "code",
   "execution_count": 27,
   "id": "bf6ee837-e9f5-49ac-8f70-613a0672fcb8",
   "metadata": {},
   "outputs": [],
   "source": [
    "np_arr_m_1[0, 0] = 42\n",
    "np_arr_m_1.itemset((1, 0), 24)"
   ]
  },
  {
   "cell_type": "code",
   "execution_count": 30,
   "id": "590dd569-b6a4-4d2c-a85a-3645dbf77651",
   "metadata": {},
   "outputs": [
    {
     "data": {
      "text/plain": [
       "array([3, 6, 9])"
      ]
     },
     "execution_count": 30,
     "metadata": {},
     "output_type": "execute_result"
    }
   ],
   "source": [
    "np.take(np_arr_m_1, [2, 5, 8])"
   ]
  },
  {
   "cell_type": "code",
   "execution_count": 35,
   "id": "460669c1-dca9-47c7-ae1a-1c55dd6d6ad3",
   "metadata": {},
   "outputs": [],
   "source": [
    "np.put(np_arr_m_1, [1, 4, 7], [10, 10, 10])"
   ]
  },
  {
   "cell_type": "code",
   "execution_count": 37,
   "id": "b1cd04c7-76ff-4cbb-92d9-ea48044a3a52",
   "metadata": {},
   "outputs": [
    {
     "data": {
      "text/plain": [
       "array([1, 3, 5], dtype=int8)"
      ]
     },
     "execution_count": 37,
     "metadata": {},
     "output_type": "execute_result"
    }
   ],
   "source": [
    "np_arr_1[:5:2]"
   ]
  },
  {
   "cell_type": "code",
   "execution_count": 41,
   "id": "93b5594d-5e8d-428c-b83b-3cf8364c17d8",
   "metadata": {},
   "outputs": [
    {
     "data": {
      "text/plain": [
       "array([3, 6, 9])"
      ]
     },
     "execution_count": 41,
     "metadata": {},
     "output_type": "execute_result"
    }
   ],
   "source": [
    "# Get third element from each row of a multidimensional array\n",
    "np_arr_m_1[:,2]"
   ]
  },
  {
   "cell_type": "code",
   "execution_count": 46,
   "id": "eac35501-75d6-4beb-9767-8572f4f086a2",
   "metadata": {},
   "outputs": [
    {
     "data": {
      "text/plain": [
       "array([[ 7, 10,  9],\n",
       "       [24, 10,  6],\n",
       "       [42, 10,  3]])"
      ]
     },
     "execution_count": 46,
     "metadata": {},
     "output_type": "execute_result"
    }
   ],
   "source": [
    "# Flip multidimensional array\n",
    "np_arr_m_1[::-1]"
   ]
  },
  {
   "cell_type": "code",
   "execution_count": 54,
   "id": "4bcda184-456f-4ff9-ac8f-c874124c109d",
   "metadata": {},
   "outputs": [
    {
     "data": {
      "text/plain": [
       "array([42, 10, 24, 10,  6, 10])"
      ]
     },
     "execution_count": 54,
     "metadata": {},
     "output_type": "execute_result"
    }
   ],
   "source": [
    "# Get even values from multidimensional array\n",
    "np_arr_m_1[np_arr_m_1 % 2 == 0]"
   ]
  },
  {
   "cell_type": "code",
   "execution_count": 52,
   "id": "d456cd39-0253-4ec2-929b-8aa5d6e52db3",
   "metadata": {},
   "outputs": [
    {
     "data": {
      "text/plain": [
       "array([6, 7])"
      ]
     },
     "execution_count": 52,
     "metadata": {},
     "output_type": "execute_result"
    }
   ],
   "source": [
    "# Get values from multidimensional array that are greater than 5 and lees than 9\n",
    "np_arr_m_1[(np_arr_m_1 > 5) & (np_arr_m_1 < 9)]"
   ]
  },
  {
   "cell_type": "code",
   "execution_count": 53,
   "id": "539f3c2f-2dc5-4518-8e63-45159a106bd1",
   "metadata": {},
   "outputs": [
    {
     "data": {
      "text/plain": [
       "array([ 3,  6,  7,  9, 10, 24, 42])"
      ]
     },
     "execution_count": 53,
     "metadata": {},
     "output_type": "execute_result"
    }
   ],
   "source": [
    "# Get unique values from multidimensional array\n",
    "np.unique(np_arr_m_1)"
   ]
  }
 ],
 "metadata": {
  "kernelspec": {
   "display_name": "Python 3 (ipykernel)",
   "language": "python",
   "name": "python3"
  },
  "language_info": {
   "codemirror_mode": {
    "name": "ipython",
    "version": 3
   },
   "file_extension": ".py",
   "mimetype": "text/x-python",
   "name": "python",
   "nbconvert_exporter": "python",
   "pygments_lexer": "ipython3",
   "version": "3.8.13"
  }
 },
 "nbformat": 4,
 "nbformat_minor": 5
}
